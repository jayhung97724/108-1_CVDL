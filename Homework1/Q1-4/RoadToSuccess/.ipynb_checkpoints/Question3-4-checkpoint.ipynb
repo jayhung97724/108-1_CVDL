{
 "cells": [
  {
   "cell_type": "code",
   "execution_count": 22,
   "metadata": {},
   "outputs": [],
   "source": [
    "import numpy as np\n",
    "import cv2"
   ]
  },
  {
   "cell_type": "code",
   "execution_count": 86,
   "metadata": {},
   "outputs": [],
   "source": [
    "def showImage(img):\n",
    "    cv2.namedWindow(\"Show Image\", cv2.WINDOW_NORMAL)\n",
    "    cv2.imshow(\"Show Image\",img)\n",
    "    cv2.waitKey()\n",
    "    cv2.destroyAllWindows()\n",
    "# showImage(img)"
   ]
  },
  {
   "cell_type": "code",
   "execution_count": 26,
   "metadata": {},
   "outputs": [],
   "source": [
    "def Q4():\n",
    "    img = cv2.imread('../../images/OriginalTransform.png')\n",
    "    imgray = cv2.cvtColor(img, cv2.COLOR_BGR2GRAY)\n",
    "    ret,thresh = cv2.threshold(imgray,127,255,0)\n",
    "    contours, hierarchy = cv2.findContours(thresh, cv2.RETR_TREE,cv2.CHAIN_APPROX_SIMPLE)\n",
    "    cv2.drawContours(img, contours, -1, (0,0,255), 2)\n",
    "    showImage(img)"
   ]
  },
  {
   "cell_type": "code",
   "execution_count": 27,
   "metadata": {},
   "outputs": [],
   "source": [
    "Q4()"
   ]
  },
  {
   "cell_type": "code",
   "execution_count": 35,
   "metadata": {},
   "outputs": [],
   "source": [
    "img = cv2.imread('../../images/OriginalTransform.png')\n",
    "img = cv2.resize(img,None,fx=0.5, fy=0.5, interpolation = cv2.INTER_AREA)\n",
    "showImage(img)"
   ]
  },
  {
   "cell_type": "code",
   "execution_count": 39,
   "metadata": {},
   "outputs": [],
   "source": [
    "img = cv2.imread('../../images/OriginalTransform.png')\n",
    "rows, cols = img.shape[:2]\n",
    "RM = cv2.getRotationMatrix2D((cols/2,rows/2),45,1)\n",
    "img = cv2.warpAffine(img,RM,(cols,rows))\n",
    "showImage(img)"
   ]
  },
  {
   "cell_type": "code",
   "execution_count": 40,
   "metadata": {},
   "outputs": [],
   "source": [
    "img = cv2.imread('../../images/OriginalTransform.png')\n",
    "rows,cols = img.shape[:2]\n",
    "\n",
    "TM = np.float32([[1,0,150],[0,1,50]])\n",
    "img = cv2.warpAffine(img,TM,(cols,rows))\n",
    "showImage(img)"
   ]
  },
  {
   "cell_type": "code",
   "execution_count": 78,
   "metadata": {},
   "outputs": [],
   "source": [
    "def Q3_1(angle=45, scale=0.8, Tx=150, Ty=50):   \n",
    "    print('Q3.1 ...')\n",
    "    img = cv2.imread('../../images/OriginalTransform.png')\n",
    "    print('Showing Original image\\nPress any key to continue ...')\n",
    "    showImage(img)\n",
    "    rows,cols = img.shape[:2]\n",
    "\n",
    "    TM = np.float32([[1,0,Tx],[0,1,Ty]])\n",
    "    RM = cv2.getRotationMatrix2D((280,175),angle,1)\n",
    "\n",
    "    img = cv2.resize(img,None,fx=scale, fy=scale, interpolation = cv2.INTER_AREA)\n",
    "    img = cv2.warpAffine(img,TM,(cols,rows))\n",
    "    img = cv2.warpAffine(img,RM,(cols,rows))\n",
    "    print('Showing transformed image ...')\n",
    "    showImage(img)"
   ]
  },
  {
   "cell_type": "code",
   "execution_count": 79,
   "metadata": {},
   "outputs": [
    {
     "name": "stdout",
     "output_type": "stream",
     "text": [
      "Q3.1 ...\n",
      "Showing Original image\n",
      "Press any key to continue ...\n",
      "Showing transformed image ...\n"
     ]
    }
   ],
   "source": [
    "Q3_1()"
   ]
  },
  {
   "cell_type": "code",
   "execution_count": 238,
   "metadata": {},
   "outputs": [],
   "source": [
    "def click_event(event, x, y, flags, param):\n",
    "    global pointCount, cornerInputs\n",
    "    if event == cv2.EVENT_LBUTTONDOWN:\n",
    "        pointCount = pointCount + 1\n",
    "        point = [x, y]\n",
    "        cornerInputs.append([x, y])\n",
    "        cv2.circle(img, tuple(point), 4, (0, 0, 255), 4)\n",
    "        cv2.imshow('Original Perspective', img)\n",
    "        \n",
    "        print(cornerInputs)\n",
    "        if pointCount == 4:\n",
    "            showNewPerspective(cornerInputs)"
   ]
  },
  {
   "cell_type": "code",
   "execution_count": 249,
   "metadata": {},
   "outputs": [],
   "source": [
    "def showNewPerspective(cornerInputs):\n",
    "    print(cornerInputs)\n",
    "    w = 1600\n",
    "    h = 1200\n",
    "    newVtx = [[0,0],[0,w],[h,w],[h,0]]\n",
    "    \n",
    "    M = cv2.getPerspectiveTransform(np.float32(cornerInputs),np.float32(newVtx))\n",
    "    dst = cv2.warpPerspective(img,M,(img.shape[0], img.shape[1]))\n",
    "    dst = cv2.flip(dst,0)\n",
    "    \n",
    "#     ih, iw = dst.shape[:2]\n",
    "#     center = (iw/2,ih/2)\n",
    "#     MR = cv2.getRotationMatrix2D(center, 270, 1)\n",
    "#     rotated270 = cv2.warpAffine(dst, MR, (ih,iw))\n",
    "    cv2.namedWindow('Perspective Result', cv2.WINDOW_NORMAL)\n",
    "    cv2.imshow('Perspective Result', dst)\n",
    "    cv2.waitKey(0)"
   ]
  },
  {
   "cell_type": "code",
   "execution_count": 250,
   "metadata": {},
   "outputs": [
    {
     "name": "stdout",
     "output_type": "stream",
     "text": [
      "[[116, 316]]\n",
      "[[116, 316], [1171, 351]]\n",
      "[[116, 316], [1171, 351], [1279, 949]]\n",
      "[[116, 316], [1171, 351], [1279, 949], [27, 924]]\n",
      "[[116, 316], [1171, 351], [1279, 949], [27, 924]]\n"
     ]
    }
   ],
   "source": [
    "img = cv2.imread('../../images/OriginalPerspective.png')\n",
    "cv2.namedWindow('Original Perspective', cv2.WINDOW_NORMAL)\n",
    "cv2.imshow('Original Perspective', img)\n",
    "\n",
    "pointCount = 0\n",
    "cornerInputs = []\n",
    "\n",
    "cv2.setMouseCallback('Original Perspective', click_event)\n",
    "\n",
    "cv2.waitKey(0)\n",
    "cv2.destroyAllWindows()"
   ]
  },
  {
   "cell_type": "code",
   "execution_count": null,
   "metadata": {},
   "outputs": [],
   "source": []
  },
  {
   "cell_type": "code",
   "execution_count": null,
   "metadata": {},
   "outputs": [],
   "source": []
  }
 ],
 "metadata": {
  "kernelspec": {
   "display_name": "Python 3",
   "language": "python",
   "name": "python3"
  },
  "language_info": {
   "codemirror_mode": {
    "name": "ipython",
    "version": 3
   },
   "file_extension": ".py",
   "mimetype": "text/x-python",
   "name": "python",
   "nbconvert_exporter": "python",
   "pygments_lexer": "ipython3",
   "version": "3.7.5"
  }
 },
 "nbformat": 4,
 "nbformat_minor": 2
}
